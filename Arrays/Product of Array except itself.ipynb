{
 "cells": [
  {
   "cell_type": "markdown",
   "metadata": {},
   "source": [
    "# Product of Array except itself"
   ]
  },
  {
   "cell_type": "markdown",
   "metadata": {},
   "source": [
    "Given an array nums of n integers where n > 1,  return an array output such that output[i] is equal to the product of all the elements of nums except nums[i]."
   ]
  },
  {
   "cell_type": "markdown",
   "metadata": {},
   "source": [
    "**_Example:_** <br>\n",
    "Input:  [1,2,3,4] <br>\n",
    "Output: [24,12,8,6] <br>\n",
    "Constraint: It's guaranteed that the product of the elements of any prefix or suffix of the array (including the whole array) fits in a 32 bit integer. <br>\n",
    "\n",
    "_Note: Please solve it without division and in O(n)._"
   ]
  },
  {
   "cell_type": "markdown",
   "metadata": {},
   "source": [
    "Follow up:\n",
    "Could you solve it with constant space complexity? (The output array does not count as extra space for the purpose of space complexity analysis.)"
   ]
  },
  {
   "cell_type": "code",
   "execution_count": 12,
   "metadata": {},
   "outputs": [],
   "source": [
    "import numpy as np"
   ]
  },
  {
   "cell_type": "markdown",
   "metadata": {},
   "source": [
    "### My solution"
   ]
  },
  {
   "cell_type": "code",
   "execution_count": 25,
   "metadata": {},
   "outputs": [],
   "source": [
    "#Time Complexity O(n)\n",
    "#Space Complexity O(n)\n",
    "\n",
    "def array_product_except_index_bf(array):\n",
    "    ht = {}\n",
    "    result = []\n",
    "    for i in array:\n",
    "        lst = array.copy()\n",
    "        lst.remove(i)\n",
    "        ht[i] = lst\n",
    "    for values in ht.values():\n",
    "        result.append(np.prod(values))\n",
    "    return result\n",
    "\n",
    "array_product_except_index([1,2,3,4])"
   ]
  },
  {
   "cell_type": "markdown",
   "metadata": {},
   "source": [
    "### Better soln."
   ]
  },
  {
   "cell_type": "code",
   "execution_count": 9,
   "metadata": {},
   "outputs": [],
   "source": [
    "def array_except_s(array):\n",
    "    \n",
    "    result, L, R =  [0]*len(array), [0]*len(array), [0]*len(array)\n",
    "    \n",
    "    L[0] = 1\n",
    "    for i in range(1, len(array)):\n",
    "        L[i] = array[i-1]*L[i-1]\n",
    "    \n",
    "    R[len(array) - 1] = 1\n",
    "    for i in range(len(array) - 2, -1, -1):\n",
    "        R[i] = array[i+1]*R[i+1]\n",
    "\n",
    "    for i in range(len(array)):\n",
    "        result[i] = L[i]*R[i]\n",
    "    \n",
    "    return result"
   ]
  },
  {
   "cell_type": "markdown",
   "metadata": {},
   "source": [
    "### Optimul solution"
   ]
  },
  {
   "cell_type": "code",
   "execution_count": 16,
   "metadata": {},
   "outputs": [],
   "source": [
    "def array_product_except_index(array):\n",
    "    result = [1] * len(array)\n",
    "    \n",
    "    prod = 1\n",
    "    for i in range(len(array)):\n",
    "        result[i] *= prod\n",
    "        prod *= array[i]\n",
    "    \n",
    "    prod = 1\n",
    "    for i in range(len(array) - 1,-1,-1):\n",
    "        result[i] *= prod\n",
    "        prod *= array[i]\n",
    "        \n",
    "    return result"
   ]
  },
  {
   "cell_type": "code",
   "execution_count": 10,
   "metadata": {},
   "outputs": [
    {
     "data": {
      "text/plain": [
       "[24, 12, 8, 6]"
      ]
     },
     "execution_count": 10,
     "metadata": {},
     "output_type": "execute_result"
    }
   ],
   "source": [
    "array_except_s([1,2,3,4])"
   ]
  },
  {
   "cell_type": "code",
   "execution_count": 18,
   "metadata": {},
   "outputs": [
    {
     "data": {
      "text/plain": [
       "[315, 189, 135, 105]"
      ]
     },
     "execution_count": 18,
     "metadata": {},
     "output_type": "execute_result"
    }
   ],
   "source": [
    "array_product_except_index([3,5,7,9])"
   ]
  }
 ],
 "metadata": {
  "kernelspec": {
   "display_name": "Python 3",
   "language": "python",
   "name": "python3"
  },
  "language_info": {
   "codemirror_mode": {
    "name": "ipython",
    "version": 3
   },
   "file_extension": ".py",
   "mimetype": "text/x-python",
   "name": "python",
   "nbconvert_exporter": "python",
   "pygments_lexer": "ipython3",
   "version": "3.7.3"
  }
 },
 "nbformat": 4,
 "nbformat_minor": 4
}
