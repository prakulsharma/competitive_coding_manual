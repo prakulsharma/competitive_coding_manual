{
 "cells": [
  {
   "cell_type": "markdown",
   "metadata": {},
   "source": [
    "# Best time to buy and sell stock"
   ]
  },
  {
   "cell_type": "markdown",
   "metadata": {},
   "source": [
    "Say you have an array for which the ith element is the price of a given stock on day i.\n",
    "\n",
    "If you were only permitted to complete at most one transaction (i.e., buy one and sell one share of the stock), design an algorithm to find the maximum profit.\n",
    "\n",
    "Note that you cannot sell a stock before you buy one."
   ]
  },
  {
   "cell_type": "markdown",
   "metadata": {},
   "source": [
    "**_Example 1:_**<br>\n",
    "Input: [7,1,5,3,6,4] <br>\n",
    "Output: 5 <br>\n",
    "Explanation: Buy on day 2 (price = 1) and sell on day 5 (price = 6), profit = 6-1 = 5.\n",
    "             Not 7-1 = 6, as selling price needs to be larger than buying price.<br>\n",
    "             \n",
    "**_Example 2:_**<br>\n",
    "Input: [7,6,4,3,1] <br>\n",
    "Output: 0 <br>\n",
    "\n",
    "Explanation: In this case, no transaction is done, i.e. max profit = 0."
   ]
  },
  {
   "cell_type": "markdown",
   "metadata": {},
   "source": [
    "### Brute force"
   ]
  },
  {
   "cell_type": "code",
   "execution_count": 1,
   "metadata": {},
   "outputs": [],
   "source": [
    "#Time complexity O(n^2)\n",
    "#Space complexity O(1)\n",
    "\n",
    "def max_profit_bf(array):\n",
    "    max_profit = 0\n",
    "    for index in range(len(array)):\n",
    "        buy = array[index]\n",
    "        for j in range(index + 1,len(array)):\n",
    "            max_pair = array[j] - array[index]         #sell price - buy price\n",
    "            max_profit = max(max_profit, max_pair)\n",
    "    return \"Max profits by Brute force : {}\".format(max_profit)\n",
    "        \n",
    "        "
   ]
  },
  {
   "cell_type": "markdown",
   "metadata": {},
   "source": [
    "### Optimum solution"
   ]
  },
  {
   "cell_type": "code",
   "execution_count": 2,
   "metadata": {},
   "outputs": [],
   "source": [
    "#Time complexity O(n)\n",
    "#Space complexity O(1)\n",
    "\n",
    "def max_profit(array):\n",
    "    small = array[0]\n",
    "    max_profit = 0.0\n",
    "    for element in array:\n",
    "        if element >= small:\n",
    "            profit = element - small\n",
    "            max_profit = max(profit,max_profit)\n",
    "        else: #element < small\n",
    "            small = element\n",
    "    return \"Max profits by optimum soln. : {}\".format(max_profit)\n",
    "        \n",
    "            "
   ]
  },
  {
   "cell_type": "code",
   "execution_count": 3,
   "metadata": {},
   "outputs": [
    {
     "name": "stdout",
     "output_type": "stream",
     "text": [
      "Max profits by Brute force : 30\n",
      "Max profits by optimum soln. : 30\n"
     ]
    }
   ],
   "source": [
    "stocks = [310,315,275,295,260,270,290,230,255,250]\n",
    "print(max_profit_bf(stocks))\n",
    "print(max_profit(stocks))"
   ]
  }
 ],
 "metadata": {
  "kernelspec": {
   "display_name": "Python 3",
   "language": "python",
   "name": "python3"
  },
  "language_info": {
   "codemirror_mode": {
    "name": "ipython",
    "version": 3
   },
   "file_extension": ".py",
   "mimetype": "text/x-python",
   "name": "python",
   "nbconvert_exporter": "python",
   "pygments_lexer": "ipython3",
   "version": "3.7.3"
  }
 },
 "nbformat": 4,
 "nbformat_minor": 4
}
