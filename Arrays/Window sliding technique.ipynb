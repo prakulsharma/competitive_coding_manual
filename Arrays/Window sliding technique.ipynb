{
 "cells": [
  {
   "cell_type": "markdown",
   "metadata": {},
   "source": [
    "### Brute force solution"
   ]
  },
  {
   "cell_type": "code",
   "execution_count": 1,
   "metadata": {},
   "outputs": [],
   "source": [
    "def max_sumbf(arr, n, k):\n",
    "    if k > n:\n",
    "        print('There is no subarray of size {} as size of whole'.format(k))\n",
    "        return -1\n",
    "    max_arr_sum = 0\n",
    "    for i in range(n - k + 1):\n",
    "        arr_sum = 0\n",
    "        for j in range(k):\n",
    "            arr_sum += arr[i + j]\n",
    "        if i == 0:\n",
    "            max_arr_sum = arr_sum\n",
    "        else:\n",
    "            if max_arr_sum < arr_sum:\n",
    "                max_arr_sum = arr_sum\n",
    "    print('Output by brute force is: {}'.format(max_arr_sum))"
   ]
  },
  {
   "cell_type": "markdown",
   "metadata": {},
   "source": [
    "### Applying the sliding window technique"
   ]
  },
  {
   "cell_type": "code",
   "execution_count": 2,
   "metadata": {},
   "outputs": [],
   "source": [
    "#Takes input of array, its size and window length\n",
    "def max_sum_swt(arr, n, k):\n",
    "    if not n > k:\n",
    "        print('There is no subarray of size {} as size of whole'.format(k))\n",
    "        return -1\n",
    "    \n",
    "    max_sum = sum(arr[:k])\n",
    "    window_sum = max_sum\n",
    "    for i in range(n - k):\n",
    "        window_sum = window_sum - arr[i] +  arr[i + k]\n",
    "        max_sum = max(max_sum, window_sum)\n",
    "        \n",
    "    return \"solution by sliding window technique is : {}\".format(max_sum)\n"
   ]
  },
  {
   "cell_type": "markdown",
   "metadata": {},
   "source": [
    "##### Input data"
   ]
  },
  {
   "cell_type": "code",
   "execution_count": 3,
   "metadata": {},
   "outputs": [],
   "source": [
    "arr = [5,2,-1,0,3]\n",
    "k = 3\n",
    "n = len(arr)"
   ]
  },
  {
   "cell_type": "code",
   "execution_count": 4,
   "metadata": {},
   "outputs": [
    {
     "name": "stdout",
     "output_type": "stream",
     "text": [
      "Output by brute force is: 6\n",
      "solution by sliding window technique is : 6\n"
     ]
    }
   ],
   "source": [
    "max_sumbf(arr, n, k)\n",
    "print(max_sum_swt(arr, n, k))"
   ]
  }
 ],
 "metadata": {
  "kernelspec": {
   "display_name": "Python 3",
   "language": "python",
   "name": "python3"
  },
  "language_info": {
   "codemirror_mode": {
    "name": "ipython",
    "version": 3
   },
   "file_extension": ".py",
   "mimetype": "text/x-python",
   "name": "python",
   "nbconvert_exporter": "python",
   "pygments_lexer": "ipython3",
   "version": "3.7.3"
  }
 },
 "nbformat": 4,
 "nbformat_minor": 4
}
